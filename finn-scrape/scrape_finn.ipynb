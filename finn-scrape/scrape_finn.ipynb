{
 "cells": [
  {
   "cell_type": "markdown",
   "metadata": {},
   "source": [
    "Scraping inspirations for finn.no:\n",
    "\n",
    "-[python](https://github.com/qiangwennorge/ScrapeFinnBolig)\n",
    "\n",
    "-[node.js-scraper](https://github.com/Lekesoldat/finn-scraper)\n",
    "\n",
    "\n",
    "Example of bussiness property is [this building](https://www.finn.no/realestate/businesssale/ad.html?finnkode=335466271). \n",
    "\n",
    "It can be scraped using [BeautifulSoup](https://www.crummy.com/software/BeautifulSoup/bs4/doc)."
   ]
  },
  {
   "cell_type": "markdown",
   "metadata": {},
   "source": [
    "For installing psycopg2\n",
    "```\n",
    "$ sudo apt-get install libpq-dev\n",
    "$ sudo apt-get install libpq-dev\n",
    "```\n",
    "Creating table\n",
    "```\n",
    "postgres=# create database finn;\n",
    "postgres=# \\c finn\n",
    "finn=# create extension postgis;\n",
    "```"
   ]
  },
  {
   "cell_type": "code",
   "execution_count": 61,
   "metadata": {},
   "outputs": [],
   "source": [
    "import requests\n",
    "# for webscraping\n",
    "from bs4 import BeautifulSoup\n",
    "# Regular Expression for splitting strings\n",
    "import re\n",
    "\n",
    "# for working with spatial data\n",
    "from osgeo import ogr, osr\n",
    "# adding data to postgresql database\n",
    "import psycopg2"
   ]
  },
  {
   "cell_type": "code",
   "execution_count": 62,
   "metadata": {
    "tags": [
     "functions"
    ]
   },
   "outputs": [],
   "source": [
    "def RequestAndScrape(url) :\n",
    "    r = requests.get(url)\n",
    "    if r.status_code == 200 :\n",
    "        soup = BeautifulSoup(r.content, 'html.parser')\n",
    "        return soup\n",
    "    else :\n",
    "        print('Bad Request:', r.status_code)\n",
    "\n",
    "def FetchListingsURL(soup) :\n",
    "    listing_data = []\n",
    "    # find the listings in articles with the following class\n",
    "    listings = soup.find_all('a', {'class':'sf-search-ad-link'} )\n",
    "    i = 0\n",
    "    for listing in listings : \n",
    "        # get the value of the url\n",
    "        listing_url = listing['href']\n",
    "        listing_data.append(listing_url)\n",
    "        i += 1\n",
    "    # count listings\n",
    "    print('%d listings available' % i)\n",
    "    return listing_data"
   ]
  },
  {
   "cell_type": "code",
   "execution_count": 63,
   "metadata": {},
   "outputs": [],
   "source": [
    "# extract the number of a string with the format '[number] m2'\n",
    "def extractAreaInt(area) :\n",
    "    # split the string on a whitespace and pick the first item and convert it into an integer\n",
    "    area = int(re.split('\\s', area)[0])\n",
    "    return area\n",
    "\n",
    "# fetch section of key info. This informtion is located in 'data-testid' divs. \n",
    "def findKeyInfo(soup) :\n",
    "    # defining local variables \n",
    "    usable_area, gross_area, ownership_type, area, construction_year, plot_area = [None] * 6\n",
    "    # regex pattern for extracting values\n",
    "    \n",
    "    keyinfodivs = soup.find('section', {'aria-labelledby':'keyinfo-heading'}).find_all('div')\n",
    "    for div in keyinfodivs :\n",
    "        if div.has_attr('data-testid') :\n",
    "            try :\n",
    "                attr = div.find('dt').text\n",
    "            except Exception as e :\n",
    "                attr = ''\n",
    "            # if there is not a 'dt' class in the div the match-case should be skipped\n",
    "            if len(attr) > 0 :\n",
    "                match attr :\n",
    "                    case 'Bruksareal' :\n",
    "                        usable_area = extractAreaInt(div.find('dd').text)\n",
    "                    case 'Bruttoareal' :\n",
    "                        gross_area = extractAreaInt(div.find('dd').text)\n",
    "                    case 'Eieform' :\n",
    "                        ownership_type = div.find('dd').text\n",
    "                    case 'Areal' :\n",
    "                        area = extractAreaInt(div.find('dd').text)\n",
    "                    case 'Byggeår' :\n",
    "                        construction_year = div.find('dd').text\n",
    "                    case 'Tomteareal' :\n",
    "                        plot_area = extractAreaInt(div.find('dd').text) \n",
    "    return usable_area, gross_area, ownership_type, area, construction_year, plot_area"
   ]
  },
  {
   "cell_type": "markdown",
   "metadata": {},
   "source": [
    "Nominatim API  is used to georeference the addresses, see [this link](https://nominatim.org/release-docs/develop/api/Search/) for the documentation of the API."
   ]
  },
  {
   "cell_type": "code",
   "execution_count": 64,
   "metadata": {
    "tags": [
     "geocode"
    ]
   },
   "outputs": [],
   "source": [
    "# geocode address\n",
    "def geocodeAddresses(address) :\n",
    "    address = re.split(', | ', address )\n",
    "    street  = address[0] + ' ' + address[1]\n",
    "    postalcode = address[2]\n",
    "\n",
    "    geocode_url = 'https://nominatim.openstreetmap.org/search?'\n",
    "    params = dict (\n",
    "        limit = '1',\n",
    "        polygon_geojson= '1',\n",
    "        format = 'geojson',\n",
    "        street = street,\n",
    "        postalcode = postalcode\n",
    "    )\n",
    "    r = requests.get(geocode_url.encode('utf-8'), params=params)\n",
    "    if r.status_code == 200 :\n",
    "        print('fetching data for ', r.url)\n",
    "        features = r.json()['features']\n",
    "    \n",
    "        if len(features) > 0 :\n",
    "            feature = features[0]\n",
    "            # fetch geometry information\n",
    "            geometry = ogr.CreateGeometryFromJson(str(feature['geometry']))\n",
    "            # fetch projection, could be neccessary sometimes...\n",
    "            source = geometry.GetSpatialReference() \n",
    "            epsg =   source.GetAttrValue('AUTHORITY', 1)\n",
    "            return geometry.ExportToWkt(), epsg\n",
    "    else : \n",
    "        print('The following request failed:')\n",
    "        print(r.url)\n",
    "        print('With status code, ', r.status_code)"
   ]
  },
  {
   "cell_type": "code",
   "execution_count": 65,
   "metadata": {},
   "outputs": [],
   "source": [
    "def fetchRealEstateInfo(soup) :\n",
    "    companyprofile = soup.find('company-profile-podlet').find('div')\n",
    "    name = str(companyprofile.find('h2').text)\n",
    "    img = companyprofile.find('img')['src']\n",
    "    return name, img\n",
    "    \n",
    "def fetchMetadata(soup) :\n",
    "    metatable = soup.find('h2', id='ad-info-heading').findNext('table').find('td', {'class':'pl-8'})\n",
    "    finn_id = metatable.text\n",
    "    status_date = metatable.findNext('td').text\n",
    "    return finn_id, status_date"
   ]
  },
  {
   "cell_type": "markdown",
   "metadata": {},
   "source": [
    "For now we want to focus on Sarpsborg. By adding a paramter to the URL, we can narrow our search for the listings in Sarpsborg"
   ]
  },
  {
   "cell_type": "code",
   "execution_count": 66,
   "metadata": {},
   "outputs": [],
   "source": [
    "mainurl = 'https://www.finn.no/realestate/businesssale/search.html?location='\n",
    "# Sarpsborg location\n",
    "sarpsborg = '1.20002.20023'\n",
    "\n",
    "# open PostgreSQL connection\n",
    "conn = psycopg2.connect(\"host=localhost dbname=finn user=postgres password=postgres\")\n",
    "cur = conn.cursor()"
   ]
  },
  {
   "cell_type": "markdown",
   "metadata": {},
   "source": [
    "Per listing, I want the following information: \n",
    "\n",
    "    - [x] Title of listing\n",
    "    - [x] Adress of listing\n",
    "    - [x] FINN-kode\n",
    "    - [x] Updated date\n",
    "    - [x] Size-values of property \n",
    "    - [x] Type of listing\n",
    "    - [x] Real Estate Agent\n",
    "\n",
    "Example of a listing: \n",
    "https://www.finn.no/realestate/businesssale/ad.html?finnkode=341094783\n"
   ]
  },
  {
   "cell_type": "code",
   "execution_count": 67,
   "metadata": {},
   "outputs": [
    {
     "name": "stdout",
     "output_type": "stream",
     "text": [
      "22 listings available\n",
      "fetching data for  https://nominatim.openstreetmap.org/search?limit=1&polygon_geojson=1&format=geojson&street=Olav+Haraldssons&postalcode=gate\n",
      "cannot unpack non-iterable NoneType object\n",
      "data inserted for 318419415\n",
      "fetching data for  https://nominatim.openstreetmap.org/search?limit=1&polygon_geojson=1&format=geojson&street=Tuneveien+2&postalcode=1710\n",
      "data inserted for 341094783\n",
      "fetching data for  https://nominatim.openstreetmap.org/search?limit=1&polygon_geojson=1&format=geojson&street=Skytterbr%C3%A5tveien+23&postalcode=1738\n",
      "data inserted for 340186000\n",
      "fetching data for  https://nominatim.openstreetmap.org/search?limit=1&polygon_geojson=1&format=geojson&street=Kirkegata+29&postalcode=1721\n",
      "data inserted for 337701162\n",
      "fetching data for  https://nominatim.openstreetmap.org/search?limit=1&polygon_geojson=1&format=geojson&street=Glomveien+6&postalcode=1710\n",
      "data inserted for 335466271\n",
      "fetching data for  https://nominatim.openstreetmap.org/search?limit=1&polygon_geojson=1&format=geojson&street=Vestbyveien+1&postalcode=A-I\n",
      "cannot unpack non-iterable NoneType object\n",
      "data inserted for 334626589\n",
      "fetching data for  https://nominatim.openstreetmap.org/search?limit=1&polygon_geojson=1&format=geojson&street=Roald+Amundsens&postalcode=gate\n",
      "cannot unpack non-iterable NoneType object\n",
      "data inserted for 309991654\n",
      "fetching data for  https://nominatim.openstreetmap.org/search?limit=1&polygon_geojson=1&format=geojson&street=Storgata+31&postalcode=1723\n",
      "data inserted for 333528680\n",
      "fetching data for  https://nominatim.openstreetmap.org/search?limit=1&polygon_geojson=1&format=geojson&street=Bj%C3%B8rnsons+gate&postalcode=6%2F8\n",
      "cannot unpack non-iterable NoneType object\n",
      "data inserted for 333453326\n",
      "fetching data for  https://nominatim.openstreetmap.org/search?limit=1&polygon_geojson=1&format=geojson&street=St.+Marie&postalcode=gate\n",
      "cannot unpack non-iterable NoneType object\n",
      "data inserted for 332661701\n",
      "fetching data for  https://nominatim.openstreetmap.org/search?limit=1&polygon_geojson=1&format=geojson&street=Kampenesmosen+-&postalcode=Kombinasjonsbygg\n",
      "cannot unpack non-iterable NoneType object\n",
      "data inserted for 329947820\n",
      "fetching data for  https://nominatim.openstreetmap.org/search?limit=1&polygon_geojson=1&format=geojson&street=Alvimveien+59&postalcode=-\n",
      "data inserted for 329929465\n",
      "fetching data for  https://nominatim.openstreetmap.org/search?limit=1&polygon_geojson=1&format=geojson&street=Sverres+gate&postalcode=12-14\n",
      "cannot unpack non-iterable NoneType object\n",
      "data inserted for 304584321\n",
      "fetching data for  https://nominatim.openstreetmap.org/search?limit=1&polygon_geojson=1&format=geojson&street=Jellestadveien+1&postalcode=1739\n",
      "data inserted for 325591320\n",
      "fetching data for  https://nominatim.openstreetmap.org/search?limit=1&polygon_geojson=1&format=geojson&street=Kirkegata+25&postalcode=1721\n",
      "data inserted for 256478306\n",
      "fetching data for  https://nominatim.openstreetmap.org/search?limit=1&polygon_geojson=1&format=geojson&street=Villaveien+9&postalcode=1710\n",
      "data inserted for 299523680\n",
      "fetching data for  https://nominatim.openstreetmap.org/search?limit=1&polygon_geojson=1&format=geojson&street=Uller%C3%B8yveien+526&postalcode=1747\n",
      "data inserted for 323587520\n",
      "fetching data for  https://nominatim.openstreetmap.org/search?limit=1&polygon_geojson=1&format=geojson&street=Oldtidsveien+5&postalcode=1747\n",
      "data inserted for 323302576\n",
      "fetching data for  https://nominatim.openstreetmap.org/search?limit=1&polygon_geojson=1&format=geojson&street=Kampenesmosen+-&postalcode=Lagerseksjoner\n",
      "cannot unpack non-iterable NoneType object\n",
      "data inserted for 297017202\n",
      "fetching data for  https://nominatim.openstreetmap.org/search?limit=1&polygon_geojson=1&format=geojson&street=Kampenesmosen+-&postalcode=Lagerseksjoner\n",
      "cannot unpack non-iterable NoneType object\n",
      "data inserted for 319751023\n",
      "fetching data for  https://nominatim.openstreetmap.org/search?limit=1&polygon_geojson=1&format=geojson&street=Jellestadveien+1&postalcode=1739\n",
      "data inserted for 319490359\n",
      "fetching data for  https://nominatim.openstreetmap.org/search?limit=1&polygon_geojson=1&format=geojson&street=L%C3%B8enveien+1&postalcode=1747\n",
      "data inserted for 296986755\n"
     ]
    }
   ],
   "source": [
    "# fetch listings of sarpsborg\n",
    "url = mainurl + sarpsborg\n",
    "# get HTML of main page\n",
    "soup = RequestAndScrape(url)\n",
    "# get URL's of the different listings pages\n",
    "listing_urls = FetchListingsURL(soup)\n",
    "# iterate over each listing url\n",
    "for listing_url in listing_urls :\n",
    "    soup = RequestAndScrape(listing_url)\n",
    "\n",
    "    # title of listing\n",
    "    title = soup.find('h1').text\n",
    "    # fetch key information over the listing\n",
    "    usable_area, gross_area, ownership_type, area, construction_year, plot_area = findKeyInfo(soup)\n",
    "\n",
    "    # realestate agent\n",
    "    realestate_name, img = fetchRealEstateInfo(soup)\n",
    "\n",
    "    # fetch type of listing\n",
    "    type = soup.find('section', {'aria-labelledby':'property-type-heading'}).find_next('div').text\n",
    "    \n",
    "    # fetch metatable and fetch the with information of the FINN-kode and last updated data. \n",
    "    finn_id, status_date = fetchMetadata(soup)\n",
    "\n",
    "    # adress is streetname number, postcode city\n",
    "    address = soup.find('span', {'data-testid':'object-address'}).text\n",
    "    \n",
    "    # characteres with å are not geocoded yet...\n",
    "    try :\n",
    "        geometry, proj = geocodeAddresses(address)\n",
    "    except Exception as e :\n",
    "        print(e)\n",
    "        geometry = None\n",
    "        proj = None \n",
    "\n",
    "    # insert data in table\n",
    "    try :\n",
    "        sql = 'insert into listing (finn_id, title, date, type, address, ownershiptype, construction_year, area, plot_area, usable_area, gross_area, realestate_name, img, listing_url, geom) values (%s, %s, %s, %s, %s, %s, %s, %s, %s, %s, %s, %s, %s, %s, ST_SetSRID(ST_GeomFromText(%s), %s))'\n",
    "        cur.execute(sql, (finn_id, title, status_date, type, address, ownership_type, construction_year, area, plot_area, usable_area, gross_area, realestate_name, img, listing_url, geometry, proj ))\n",
    "        conn.commit()\n",
    "        print('data inserted for', finn_id)\n",
    "    except Exception as e : \n",
    "        print(e)\n",
    "        conn.rollback()\n",
    "conn.close()\n",
    "    \n",
    "\n"
   ]
  },
  {
   "cell_type": "markdown",
   "metadata": {},
   "source": [
    "Afterwards, it is possible to export the data from PostGIS to a Geopackage with: \n",
    "```\n",
    "$ ogr2ogr -f \"GPKG\" listings.gpkg PG:\"host=localhost user=postgres \\\n",
    "  dbname=finn password=postgres\" \"listing\"\n",
    "```"
   ]
  }
 ],
 "metadata": {
  "kernelspec": {
   "display_name": "Python 3",
   "language": "python",
   "name": "python3"
  },
  "language_info": {
   "codemirror_mode": {
    "name": "ipython",
    "version": 3
   },
   "file_extension": ".py",
   "mimetype": "text/x-python",
   "name": "python",
   "nbconvert_exporter": "python",
   "pygments_lexer": "ipython3",
   "version": "3.10.12"
  }
 },
 "nbformat": 4,
 "nbformat_minor": 2
}
