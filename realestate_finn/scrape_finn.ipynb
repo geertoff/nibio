{
 "cells": [
  {
   "cell_type": "markdown",
   "metadata": {},
   "source": [
    "Scraping inspirations for finn.no:\n",
    "\n",
    "-[python](https://github.com/qiangwennorge/ScrapeFinnBolig)\n",
    "\n",
    "-[node.js-scraper](https://github.com/Lekesoldat/finn-scraper)\n",
    "\n",
    "\n",
    "Example of bussiness property is [this building](https://www.finn.no/realestate/businesssale/ad.html?finnkode=335466271). \n",
    "\n",
    "It can be scraped using [BeautifulSoup](https://www.crummy.com/software/BeautifulSoup/bs4/doc)."
   ]
  },
  {
   "cell_type": "code",
   "execution_count": 2,
   "metadata": {},
   "outputs": [],
   "source": [
    "import requests\n",
    "from bs4 import BeautifulSoup\n",
    "# for splitting strings\n",
    "import re\n",
    "from osgeo import ogr, osr"
   ]
  },
  {
   "cell_type": "markdown",
   "metadata": {},
   "source": [
    "For now we want to focus on Sarpsborg. By adding a paramter to the URL, we can narrow our search for the listings in Sarpsborg"
   ]
  },
  {
   "cell_type": "code",
   "execution_count": 3,
   "metadata": {},
   "outputs": [],
   "source": [
    "mainurl = 'https://www.finn.no/realestate/businesssale/search.html?location='\n",
    "# Sarpsborg location\n",
    "sarpsborg = '1.20002.20023'"
   ]
  },
  {
   "cell_type": "code",
   "execution_count": 4,
   "metadata": {},
   "outputs": [],
   "source": [
    "def RequestAndScrape(url) :\n",
    "    r = requests.get(url)\n",
    "    if r.status_code == 200 :\n",
    "        soup = BeautifulSoup(r.content, 'html.parser')\n",
    "        return soup\n",
    "    else :\n",
    "        print('Bad Request:', r.status_code)"
   ]
  },
  {
   "cell_type": "code",
   "execution_count": 5,
   "metadata": {},
   "outputs": [],
   "source": [
    "def FetchListings(soup) :\n",
    "    arr_listings = []\n",
    "    # find the listings in articles with the following class\n",
    "    listings = soup.find_all('a', {'class':'sf-search-ad-link'} )\n",
    "    i = 0\n",
    "    for listing in listings : \n",
    "        # get the value of the url\n",
    "        listing_url = listing['href']\n",
    "        arr_listings.append(listing_url)\n",
    "        i += 1\n",
    "    # count listings\n",
    "    print(i)\n",
    "    return arr_listings"
   ]
  },
  {
   "cell_type": "code",
   "execution_count": 6,
   "metadata": {},
   "outputs": [
    {
     "name": "stdout",
     "output_type": "stream",
     "text": [
      "22\n"
     ]
    }
   ],
   "source": [
    "url = mainurl + sarpsborg\n",
    "soup = RequestAndScrape(url)\n",
    "\n",
    "listings = FetchListings(soup)\n"
   ]
  },
  {
   "cell_type": "markdown",
   "metadata": {},
   "source": [
    "Per listing, I want the following information: \n",
    "\n",
    "    \n",
    "    - Title of listing\n",
    "    - Adress of listing\n",
    "    - FINN-kode\n",
    "    - Type of listing\n",
    "    - Area information\n",
    "    - Real Estate Agent\n"
   ]
  },
  {
   "cell_type": "code",
   "execution_count": 17,
   "metadata": {},
   "outputs": [
    {
     "name": "stdout",
     "output_type": "stream",
     "text": [
      "None\n"
     ]
    }
   ],
   "source": [
    "addresses = []\n",
    "for listing in listings : \n",
    "    listing_data = RequestAndScrape(listing)\n",
    "    # title of listing\n",
    "    title = listing_data.find('h1').text\n",
    "    \n",
    "    # adress is streetname number, postcode city\n",
    "    address = listing_data.find('span', {'data-testid':'object-address'}).text\n",
    "    addresses.append(address)"
   ]
  },
  {
   "cell_type": "markdown",
   "metadata": {},
   "source": [
    "Nominatim API that is used, see [this link](https://nominatim.org/release-docs/develop/api/Search/)"
   ]
  },
  {
   "cell_type": "code",
   "execution_count": 16,
   "metadata": {
    "tags": [
     "geocode"
    ]
   },
   "outputs": [
    {
     "name": "stdout",
     "output_type": "stream",
     "text": [
      "GEOGCS[\"WGS 84\",\n",
      "    DATUM[\"WGS_1984\",\n",
      "        SPHEROID[\"WGS 84\",6378137,298.257223563,\n",
      "            AUTHORITY[\"EPSG\",\"7030\"]],\n",
      "        AUTHORITY[\"EPSG\",\"6326\"]],\n",
      "    PRIMEM[\"Greenwich\",0,\n",
      "        AUTHORITY[\"EPSG\",\"8901\"]],\n",
      "    UNIT[\"degree\",0.0174532925199433,\n",
      "        AUTHORITY[\"EPSG\",\"9122\"]],\n",
      "    AXIS[\"Latitude\",NORTH],\n",
      "    AXIS[\"Longitude\",EAST],\n",
      "    AUTHORITY[\"EPSG\",\"4326\"]]\n",
      "EPSG\n"
     ]
    },
    {
     "ename": "KeyboardInterrupt",
     "evalue": "",
     "output_type": "error",
     "traceback": [
      "\u001b[0;31m---------------------------------------------------------------------------\u001b[0m",
      "\u001b[0;31mKeyboardInterrupt\u001b[0m                         Traceback (most recent call last)",
      "\u001b[1;32m/home/geertoff/GitHub/nibio/realestate_finn/scrape_finn.ipynb Cell 11\u001b[0m line \u001b[0;36m2\n\u001b[1;32m      <a href='vscode-notebook-cell://wsl%2Bubuntu-22.04/home/geertoff/GitHub/nibio/realestate_finn/scrape_finn.ipynb#X13sdnNjb2RlLXJlbW90ZQ%3D%3D?line=0'>1</a>\u001b[0m \u001b[39m# iterate over list of addresses\u001b[39;00m\n\u001b[0;32m----> <a href='vscode-notebook-cell://wsl%2Bubuntu-22.04/home/geertoff/GitHub/nibio/realestate_finn/scrape_finn.ipynb#X13sdnNjb2RlLXJlbW90ZQ%3D%3D?line=1'>2</a>\u001b[0m \u001b[39mfor\u001b[39;00m full_address \u001b[39min\u001b[39;00m addresses :\n\u001b[1;32m      <a href='vscode-notebook-cell://wsl%2Bubuntu-22.04/home/geertoff/GitHub/nibio/realestate_finn/scrape_finn.ipynb#X13sdnNjb2RlLXJlbW90ZQ%3D%3D?line=2'>3</a>\u001b[0m     \u001b[39m# geocode adress\u001b[39;00m\n\u001b[1;32m      <a href='vscode-notebook-cell://wsl%2Bubuntu-22.04/home/geertoff/GitHub/nibio/realestate_finn/scrape_finn.ipynb#X13sdnNjb2RlLXJlbW90ZQ%3D%3D?line=3'>4</a>\u001b[0m     adress \u001b[39m=\u001b[39m re\u001b[39m.\u001b[39msplit(\u001b[39m'\u001b[39m\u001b[39m, | \u001b[39m\u001b[39m'\u001b[39m, full_address )\n\u001b[1;32m      <a href='vscode-notebook-cell://wsl%2Bubuntu-22.04/home/geertoff/GitHub/nibio/realestate_finn/scrape_finn.ipynb#X13sdnNjb2RlLXJlbW90ZQ%3D%3D?line=4'>5</a>\u001b[0m     street  \u001b[39m=\u001b[39m adress[\u001b[39m0\u001b[39m] \u001b[39m+\u001b[39m \u001b[39m'\u001b[39m\u001b[39m \u001b[39m\u001b[39m'\u001b[39m \u001b[39m+\u001b[39m adress[\u001b[39m1\u001b[39m]\n",
      "\u001b[1;32m/home/geertoff/GitHub/nibio/realestate_finn/scrape_finn.ipynb Cell 11\u001b[0m line \u001b[0;36m2\n\u001b[1;32m      <a href='vscode-notebook-cell://wsl%2Bubuntu-22.04/home/geertoff/GitHub/nibio/realestate_finn/scrape_finn.ipynb#X13sdnNjb2RlLXJlbW90ZQ%3D%3D?line=0'>1</a>\u001b[0m \u001b[39m# iterate over list of addresses\u001b[39;00m\n\u001b[0;32m----> <a href='vscode-notebook-cell://wsl%2Bubuntu-22.04/home/geertoff/GitHub/nibio/realestate_finn/scrape_finn.ipynb#X13sdnNjb2RlLXJlbW90ZQ%3D%3D?line=1'>2</a>\u001b[0m \u001b[39mfor\u001b[39;00m full_address \u001b[39min\u001b[39;00m addresses :\n\u001b[1;32m      <a href='vscode-notebook-cell://wsl%2Bubuntu-22.04/home/geertoff/GitHub/nibio/realestate_finn/scrape_finn.ipynb#X13sdnNjb2RlLXJlbW90ZQ%3D%3D?line=2'>3</a>\u001b[0m     \u001b[39m# geocode adress\u001b[39;00m\n\u001b[1;32m      <a href='vscode-notebook-cell://wsl%2Bubuntu-22.04/home/geertoff/GitHub/nibio/realestate_finn/scrape_finn.ipynb#X13sdnNjb2RlLXJlbW90ZQ%3D%3D?line=3'>4</a>\u001b[0m     adress \u001b[39m=\u001b[39m re\u001b[39m.\u001b[39msplit(\u001b[39m'\u001b[39m\u001b[39m, | \u001b[39m\u001b[39m'\u001b[39m, full_address )\n\u001b[1;32m      <a href='vscode-notebook-cell://wsl%2Bubuntu-22.04/home/geertoff/GitHub/nibio/realestate_finn/scrape_finn.ipynb#X13sdnNjb2RlLXJlbW90ZQ%3D%3D?line=4'>5</a>\u001b[0m     street  \u001b[39m=\u001b[39m adress[\u001b[39m0\u001b[39m] \u001b[39m+\u001b[39m \u001b[39m'\u001b[39m\u001b[39m \u001b[39m\u001b[39m'\u001b[39m \u001b[39m+\u001b[39m adress[\u001b[39m1\u001b[39m]\n",
      "File \u001b[0;32m_pydevd_bundle/pydevd_cython.pyx:1457\u001b[0m, in \u001b[0;36m_pydevd_bundle.pydevd_cython.SafeCallWrapper.__call__\u001b[0;34m()\u001b[0m\n",
      "File \u001b[0;32m_pydevd_bundle/pydevd_cython.pyx:701\u001b[0m, in \u001b[0;36m_pydevd_bundle.pydevd_cython.PyDBFrame.trace_dispatch\u001b[0;34m()\u001b[0m\n",
      "File \u001b[0;32m_pydevd_bundle/pydevd_cython.pyx:1395\u001b[0m, in \u001b[0;36m_pydevd_bundle.pydevd_cython.PyDBFrame.trace_dispatch\u001b[0;34m()\u001b[0m\n",
      "File \u001b[0;32m_pydevd_bundle/pydevd_cython.pyx:1344\u001b[0m, in \u001b[0;36m_pydevd_bundle.pydevd_cython.PyDBFrame.trace_dispatch\u001b[0;34m()\u001b[0m\n",
      "File \u001b[0;32m_pydevd_bundle/pydevd_cython.pyx:312\u001b[0m, in \u001b[0;36m_pydevd_bundle.pydevd_cython.PyDBFrame.do_wait_suspend\u001b[0;34m()\u001b[0m\n",
      "File \u001b[0;32m~/.local/lib/python3.10/site-packages/debugpy/_vendored/pydevd/pydevd.py:2070\u001b[0m, in \u001b[0;36mPyDB.do_wait_suspend\u001b[0;34m(self, thread, frame, event, arg, exception_type)\u001b[0m\n\u001b[1;32m   2067\u001b[0m             from_this_thread\u001b[39m.\u001b[39mappend(frame_custom_thread_id)\n\u001b[1;32m   2069\u001b[0m     \u001b[39mwith\u001b[39;00m \u001b[39mself\u001b[39m\u001b[39m.\u001b[39m_threads_suspended_single_notification\u001b[39m.\u001b[39mnotify_thread_suspended(thread_id, thread, stop_reason):\n\u001b[0;32m-> 2070\u001b[0m         keep_suspended \u001b[39m=\u001b[39m \u001b[39mself\u001b[39;49m\u001b[39m.\u001b[39;49m_do_wait_suspend(thread, frame, event, arg, suspend_type, from_this_thread, frames_tracker)\n\u001b[1;32m   2072\u001b[0m frames_list \u001b[39m=\u001b[39m \u001b[39mNone\u001b[39;00m\n\u001b[1;32m   2074\u001b[0m \u001b[39mif\u001b[39;00m keep_suspended:\n\u001b[1;32m   2075\u001b[0m     \u001b[39m# This means that we should pause again after a set next statement.\u001b[39;00m\n",
      "File \u001b[0;32m~/.local/lib/python3.10/site-packages/debugpy/_vendored/pydevd/pydevd.py:2106\u001b[0m, in \u001b[0;36mPyDB._do_wait_suspend\u001b[0;34m(self, thread, frame, event, arg, suspend_type, from_this_thread, frames_tracker)\u001b[0m\n\u001b[1;32m   2103\u001b[0m         \u001b[39mself\u001b[39m\u001b[39m.\u001b[39m_call_input_hook()\n\u001b[1;32m   2105\u001b[0m     \u001b[39mself\u001b[39m\u001b[39m.\u001b[39mprocess_internal_commands()\n\u001b[0;32m-> 2106\u001b[0m     time\u001b[39m.\u001b[39;49msleep(\u001b[39m0.01\u001b[39;49m)\n\u001b[1;32m   2108\u001b[0m \u001b[39mself\u001b[39m\u001b[39m.\u001b[39mcancel_async_evaluation(get_current_thread_id(thread), \u001b[39mstr\u001b[39m(\u001b[39mid\u001b[39m(frame)))\n\u001b[1;32m   2110\u001b[0m \u001b[39m# process any stepping instructions\u001b[39;00m\n",
      "\u001b[0;31mKeyboardInterrupt\u001b[0m: "
     ]
    }
   ],
   "source": [
    "# iterate over list of addresses\n",
    "for full_address in addresses :\n",
    "    # geocode adress\n",
    "    adress = re.split(', | ', full_address )\n",
    "    street  = adress[0] + ' ' + adress[1]\n",
    "    postalcode = adress[2]\n",
    "    city = adress[3]\n",
    "\n",
    "    geocode_url = 'https://nominatim.openstreetmap.org/search?'\n",
    "    params = dict (\n",
    "        adressdetails = '1',\n",
    "        extratags = '1',\n",
    "        namedetails = '0',\n",
    "        limit = '1',\n",
    "        polygon_geojson= '1',\n",
    "        format = 'geojson',\n",
    "        street = street,\n",
    "        city = city,\n",
    "        postalcode = postalcode\n",
    "    )\n",
    "\n",
    "    r = requests.get(geocode_url, params=params)\n",
    "    if r.status_code == 200 :\n",
    "        features = r.json()['features']\n",
    "    \n",
    "        if len(features) > 0 :\n",
    "            feature = features[0]\n",
    "\n",
    "            osm_type = feature['properties']['type']\n",
    "            osm_diplayname = feature['properties']['display_name']\n",
    "\n",
    "            geometry = ogr.CreateGeometryFromJson(str(feature['geometry']))\n",
    "            source = geometry.GetSpatialReference()   \n",
    "            # prints the EPSGCode of layer\n",
    "            print('EPSG-code of geometry: ', source.GetAttrValue('AUTHORITY', 1))\n",
    "\n",
    "            \n",
    "\n",
    "    else : \n",
    "        print('The following request failed:')\n",
    "        print(r.url)\n",
    "        print('With status code, ', r.status_code)"
   ]
  }
 ],
 "metadata": {
  "kernelspec": {
   "display_name": "Python 3",
   "language": "python",
   "name": "python3"
  },
  "language_info": {
   "codemirror_mode": {
    "name": "ipython",
    "version": 3
   },
   "file_extension": ".py",
   "mimetype": "text/x-python",
   "name": "python",
   "nbconvert_exporter": "python",
   "pygments_lexer": "ipython3",
   "version": "3.10.12"
  }
 },
 "nbformat": 4,
 "nbformat_minor": 2
}
