{
 "cells": [
  {
   "cell_type": "markdown",
   "metadata": {},
   "source": [
    "Scraping inspirations for finn.no:\n",
    "\n",
    "-[python](https://github.com/qiangwennorge/ScrapeFinnBolig)\n",
    "\n",
    "-[node.js-scraper](https://github.com/Lekesoldat/finn-scraper)\n",
    "\n",
    "\n",
    "Example of bussiness property is [this building](https://www.finn.no/realestate/businesssale/ad.html?finnkode=335466271). \n",
    "\n",
    "It can be scraped using [BeautifulSoup](https://www.crummy.com/software/BeautifulSoup/bs4/doc)."
   ]
  },
  {
   "cell_type": "code",
   "execution_count": 1,
   "metadata": {},
   "outputs": [],
   "source": [
    "import requests\n",
    "# for webscraping\n",
    "from bs4 import BeautifulSoup\n",
    "# for splitting strings\n",
    "import re\n",
    "\n",
    "# for working with spatial data\n",
    "from osgeo import ogr, osr\n"
   ]
  },
  {
   "cell_type": "markdown",
   "metadata": {},
   "source": [
    "For now we want to focus on Sarpsborg. By adding a paramter to the URL, we can narrow our search for the listings in Sarpsborg"
   ]
  },
  {
   "cell_type": "code",
   "execution_count": 2,
   "metadata": {},
   "outputs": [],
   "source": [
    "mainurl = 'https://www.finn.no/realestate/businesssale/search.html?location='\n",
    "# Sarpsborg location\n",
    "sarpsborg = '1.20002.20023'"
   ]
  },
  {
   "cell_type": "code",
   "execution_count": 3,
   "metadata": {
    "tags": [
     "functions"
    ]
   },
   "outputs": [],
   "source": [
    "def RequestAndScrape(url) :\n",
    "    r = requests.get(url)\n",
    "    if r.status_code == 200 :\n",
    "        soup = BeautifulSoup(r.content, 'html.parser')\n",
    "        return soup\n",
    "    else :\n",
    "        print('Bad Request:', r.status_code)\n",
    "\n",
    "def FetchListingsURL(soup) :\n",
    "    listing_data = []\n",
    "    # find the listings in articles with the following class\n",
    "    listings = soup.find_all('a', {'class':'sf-search-ad-link'} )\n",
    "    i = 0\n",
    "    for listing in listings : \n",
    "        # get the value of the url\n",
    "        listing_url = listing['href']\n",
    "        listing_data.append(listing_url)\n",
    "        i += 1\n",
    "    # count listings\n",
    "    print('%d listings available' % i)\n",
    "    return listing_data"
   ]
  },
  {
   "cell_type": "code",
   "execution_count": 13,
   "metadata": {},
   "outputs": [],
   "source": [
    "# fetch section of key info. This informtion is located in 'data-testid' divs. \n",
    "def findKeyInfo(soup) :\n",
    "    # defining local variables \n",
    "    usable_area, gross_area, ownership_type, area, construction_year, plot_area = [None] * 6\n",
    "    keyinfodivs = soup.find('section', {'aria-labelledby':'keyinfo-heading'}).find_all('div')\n",
    "    for div in keyinfodivs :\n",
    "        if div.has_attr('data-testid') :\n",
    "            try :\n",
    "                attr = div.find('dt').text\n",
    "            except Exception as e :\n",
    "                attr = ''\n",
    "            # if there is not a 'dt' class in the div the match-case should be skipped\n",
    "            if len(attr) > 0 :\n",
    "                match attr :\n",
    "                    case 'Bruksareal' :\n",
    "                        usable_area = div.find('dd').text\n",
    "                    case 'Bruttoareal' :\n",
    "                        gross_area = div.find('dd').text\n",
    "                    case 'Eieform' :\n",
    "                        ownership_type = div.find('dd').text\n",
    "                    case 'Areal' :\n",
    "                        area = div.find('dd').text\n",
    "                    case 'Byggeår' :\n",
    "                        construction_year = div.find('dd').text\n",
    "                    case 'Tomteareal' :\n",
    "                        plot_area = div.find('dd').text  \n",
    "    return usable_area, gross_area, ownership_type, area, construction_year, plot_area"
   ]
  },
  {
   "cell_type": "markdown",
   "metadata": {},
   "source": [
    "Nominatim API that is used, see [this link](https://nominatim.org/release-docs/develop/api/Search/)"
   ]
  },
  {
   "cell_type": "code",
   "execution_count": 5,
   "metadata": {
    "tags": [
     "geocode"
    ]
   },
   "outputs": [],
   "source": [
    "# geocode address\n",
    "def geocodeAddresses(address) :\n",
    "    address = re.split(', | ', address )\n",
    "    street  = address[0] + ' ' + address[1]\n",
    "    postalcode = address[2]\n",
    "    city = address[3]\n",
    "\n",
    "    geocode_url = 'https://nominatim.openstreetmap.org/search?'\n",
    "    params = dict (\n",
    "        limit = '1',\n",
    "        polygon_geojson= '1',\n",
    "        format = 'geojson',\n",
    "        street = street,\n",
    "        city = city,\n",
    "        postalcode = postalcode\n",
    "    )\n",
    "    r = requests.get(geocode_url, params=params)\n",
    "    if r.status_code == 200 :\n",
    "        features = r.json()['features']\n",
    "    \n",
    "        if len(features) > 0 :\n",
    "            feature = features[0]\n",
    "            # fetch geometry information\n",
    "            geometry = ogr.CreateGeometryFromJson(str(feature['geometry']))\n",
    "            # fetch projection, could be neccessary sometimes...\n",
    "            # source = geometry.GetSpatialReference() \n",
    "            # epsg =   source.GetAttrValue('AUTHORITY', 1)\n",
    "            return (geometry)\n",
    "    else : \n",
    "        print('The following request failed:')\n",
    "        print(r.url)\n",
    "        print('With status code, ', r.status_code)"
   ]
  },
  {
   "cell_type": "code",
   "execution_count": 6,
   "metadata": {},
   "outputs": [],
   "source": [
    "def fetchRealEstateInfo(soup) :\n",
    "    companyprofile = soup.find('company-profile-podlet').find('div')\n",
    "    name = str(companyprofile.find('h2').text)\n",
    "    img = companyprofile.find('img')['src']\n",
    "    return name, img\n",
    "    \n",
    "def fetchMetadata(soup) :\n",
    "    metatable = soup.find('h2', id='ad-info-heading').findNext('table').find('td', {'class':'pl-8'})\n",
    "    finn_kode = metatable.text\n",
    "    status_date = metatable.findNext('td').text\n",
    "    return finn_kode, status_date"
   ]
  },
  {
   "cell_type": "markdown",
   "metadata": {},
   "source": [
    "Per listing, I want the following information: \n",
    "\n",
    "    - [x] Title of listing\n",
    "    - [x] Adress of listing\n",
    "    - [x] FINN-kode\n",
    "    - [x] Updated date\n",
    "    - [x] Size-values of property \n",
    "    - [x] Type of listing\n",
    "    - [x] Real Estate Agent\n",
    "\n",
    "Example of a listing: \n",
    "https://www.finn.no/realestate/businesssale/ad.html?finnkode=341094783\n"
   ]
  },
  {
   "cell_type": "code",
   "execution_count": null,
   "metadata": {},
   "outputs": [],
   "source": [
    "# fetch listings of sarpsborg\n",
    "url = mainurl + sarpsborg\n",
    "# get HTML of main page\n",
    "soup = RequestAndScrape(url)\n",
    "# get URL's of the different listings pages\n",
    "listing_urls = FetchListingsURL(soup)\n",
    "# iterate over each listing url\n",
    "for listing_url in listing_urls :\n",
    "    soup = RequestAndScrape(listing_url)\n",
    "\n",
    "    # title of listing\n",
    "    title = soup.find('h1').text\n",
    "    # fetch key information over the listing\n",
    "    usable_area, gross_area, ownership_type, area, construction_year, plot_area = findKeyInfo(soup)\n",
    "\n",
    "    # realestate agent\n",
    "    company_name, img = fetchRealEstateInfo(soup)\n",
    "\n",
    "    # fetch type of listing\n",
    "    type = soup.find('section', {'aria-labelledby':'property-type-heading'}).find_next('div').text\n",
    "    \n",
    "    # fetch metatable and fetch the with information of the FINN-kode and last updated data. \n",
    "    finn_kode, status_date = fetchMetadata(soup)\n",
    "\n",
    "    # adress is streetname number, postcode city\n",
    "    address = soup.find('span', {'data-testid':'object-address'}).text\n",
    "    geometry = geocodeAddresses(address)"
   ]
  }
 ],
 "metadata": {
  "kernelspec": {
   "display_name": "Python 3",
   "language": "python",
   "name": "python3"
  },
  "language_info": {
   "codemirror_mode": {
    "name": "ipython",
    "version": 3
   },
   "file_extension": ".py",
   "mimetype": "text/x-python",
   "name": "python",
   "nbconvert_exporter": "python",
   "pygments_lexer": "ipython3",
   "version": "3.10.12"
  }
 },
 "nbformat": 4,
 "nbformat_minor": 2
}
