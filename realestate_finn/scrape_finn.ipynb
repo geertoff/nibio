{
 "cells": [
  {
   "cell_type": "markdown",
   "metadata": {},
   "source": [
    "Scraping inspirations for finn.no:\n",
    "-[python](https://github.com/qiangwennorge/ScrapeFinnBolig)\n",
    "-[node.js-scraper](https://github.com/Lekesoldat/finn-scraper)\n",
    "\n",
    "Example of bussiness property is [this building](https://www.finn.no/realestate/businesssale/ad.html?finnkode=335466271). \n",
    "It can be scraped using (BeautifulSoup)[https://www.crummy.com/software/BeautifulSoup/bs4/doc/]."
   ]
  },
  {
   "cell_type": "code",
   "execution_count": 57,
   "metadata": {},
   "outputs": [],
   "source": [
    "import requests\n",
    "from bs4 import BeautifulSoup\n",
    "# for splitting strings\n",
    "import re"
   ]
  },
  {
   "cell_type": "markdown",
   "metadata": {},
   "source": [
    "For now we want to focus on Sarpsborg. By adding a paramter to the URL, we can narrow our search for the listings in Sarpsborg"
   ]
  },
  {
   "cell_type": "code",
   "execution_count": 9,
   "metadata": {},
   "outputs": [],
   "source": [
    "mainurl = 'https://www.finn.no/realestate/businesssale/search.html?location='\n",
    "# Sarpsborg location\n",
    "sarpsborg = '1.20002.20023'"
   ]
  },
  {
   "cell_type": "code",
   "execution_count": 34,
   "metadata": {},
   "outputs": [],
   "source": [
    "def RequestAndScrape(url) :\n",
    "    r = requests.get(url)\n",
    "    if r.status_code == 200 :\n",
    "        soup = BeautifulSoup(r.content, 'html.parser')\n",
    "        return soup\n",
    "    else :\n",
    "        print('Bad Request:', r.status_code)"
   ]
  },
  {
   "cell_type": "code",
   "execution_count": 38,
   "metadata": {},
   "outputs": [],
   "source": [
    "def FetchListings(soup) :\n",
    "    arr_listings = []\n",
    "    # find the listings in articles with the following class\n",
    "    listings = soup.find_all('a', {'class':'sf-search-ad-link'} )\n",
    "    i = 0\n",
    "    for listing in listings : \n",
    "        # get the value of the url\n",
    "        listing_url = listing['href']\n",
    "        arr_listings.append(listing_url)\n",
    "        i += 1\n",
    "    # count listings\n",
    "    print(i)\n",
    "    return arr_listings"
   ]
  },
  {
   "cell_type": "code",
   "execution_count": 41,
   "metadata": {},
   "outputs": [
    {
     "name": "stdout",
     "output_type": "stream",
     "text": [
      "20\n"
     ]
    }
   ],
   "source": [
    "url = mainurl + sarpsborg\n",
    "soup = RequestAndScrape(url)\n",
    "\n",
    "listings = FetchListings(soup)\n"
   ]
  },
  {
   "cell_type": "markdown",
   "metadata": {},
   "source": [
    "Per listing, I want the following information: \n",
    "    - Title of listing\n",
    "    - Adress of listing\n",
    "    - Type of listing\n",
    "    - Area information\n",
    "    - Real Estate Agent"
   ]
  },
  {
   "cell_type": "code",
   "execution_count": 65,
   "metadata": {},
   "outputs": [
    {
     "name": "stdout",
     "output_type": "stream",
     "text": [
      "https://www.finn.no/realestate/businesssale/ad.html?finnkode=337701162\n",
      "Kirkegata 29, 1721 Sarpsborg\n",
      "https://www.finn.no/realestate/businesssale/ad.html?finnkode=335466271\n",
      "Glomveien 6, 1710 Sarpsborg\n",
      "https://www.finn.no/realestate/businesssale/ad.html?finnkode=334626589\n",
      "Vestbyveien 1 A-I, 1734 Hafslundsøy\n",
      "https://www.finn.no/realestate/businesssale/ad.html?finnkode=309991654\n",
      "Roald Amundsens gate 19 og 21, 1723 Sarpsborg\n",
      "https://www.finn.no/realestate/businesssale/ad.html?finnkode=333528680\n",
      "Storgata 31, 1723 Sarpsborg\n",
      "https://www.finn.no/realestate/businesssale/ad.html?finnkode=333453326\n",
      "Bjørnsons gate 6/8, 1724 Sarpsborg\n",
      "https://www.finn.no/realestate/businesssale/ad.html?finnkode=332661701\n",
      "St. Marie gate 2, 1706 Sarpsborg\n",
      "https://www.finn.no/realestate/businesssale/ad.html?finnkode=329947820\n",
      "Kampenesmosen - Kombinasjonsbygg, 1739 Borgenhaugen\n",
      "https://www.finn.no/realestate/businesssale/ad.html?finnkode=329929465\n",
      "Alvimveien 59 - Lagerseksjoner, 1722 Sarpsborg\n",
      "https://www.finn.no/realestate/businesssale/ad.html?finnkode=304584321\n",
      "Sverres gate 12-14, 1706 Sarpsborg\n",
      "https://www.finn.no/realestate/businesssale/ad.html?finnkode=325591320\n",
      "Jellestadveien 1, 1739 Borgenhaugen\n",
      "https://www.finn.no/realestate/businesssale/ad.html?finnkode=256478306\n",
      "Kirkegata 25, 1721 Sarpsborg\n",
      "https://www.finn.no/realestate/businesssale/ad.html?finnkode=299523680\n",
      "Villaveien 9, 1710 Sarpsborg\n",
      "https://www.finn.no/realestate/businesssale/ad.html?finnkode=323587520\n",
      "Ullerøyveien 526, 1747 Skjeberg\n",
      "https://www.finn.no/realestate/businesssale/ad.html?finnkode=323302576\n",
      "Oldtidsveien 5, 1747 Skjeberg\n",
      "https://www.finn.no/realestate/businesssale/ad.html?finnkode=297017202\n",
      "Kampenesmosen - Lagerseksjoner, 1739 Borgenhaugen\n",
      "https://www.finn.no/realestate/businesssale/ad.html?finnkode=319751023\n",
      "Kampenesmosen - Lagerseksjoner Bygg 2, 1739 Borgenhaugen\n",
      "https://www.finn.no/realestate/businesssale/ad.html?finnkode=319490359\n",
      "Jellestadveien 1, 1739 Borgenhaugen\n",
      "https://www.finn.no/realestate/businesssale/ad.html?finnkode=318419415\n",
      "Olav Haraldssons gate 37, 1707 Sarpsborg\n",
      "https://www.finn.no/realestate/businesssale/ad.html?finnkode=296986755\n",
      "Løenveien 1, 1747 Skjeberg\n"
     ]
    }
   ],
   "source": [
    "for listing in listings : \n",
    "    print(listing)\n",
    "    listing_data = RequestAndScrape(listing)\n",
    "    \n",
    "    title = listing_data.find('h1').text\n",
    "    # adress is streetname number, postcode city\n",
    "    list_adress = listing_data.find('span', {'data-testid':'object-address'}).text\n",
    "    print(list_adress)\n"
   ]
  },
  {
   "cell_type": "code",
   "execution_count": 68,
   "metadata": {
    "tags": [
     "geocode"
    ]
   },
   "outputs": [
    {
     "name": "stdout",
     "output_type": "stream",
     "text": [
      "['Løenveien', '1', '1747', 'Skjeberg']\n"
     ]
    }
   ],
   "source": [
    "# geocode adress\n",
    "adress = re.split(', | ', list_adress )\n",
    "print(adress)\n",
    "street  = adress[0] + adress[1]\n",
    "postalcode = adress[2]\n",
    "city = adress[3]\n",
    "\n",
    "geocode_url = 'https://nominatim.openstreetmap.org/search'\n",
    "params = dict (\n",
    "    adressdetails = '1',\n",
    "    extratags = '1',\n",
    "    namedetails = '1',\n",
    "    limit = '1',\n",
    "    polygon_geojson= '1',\n",
    "    format = 'geojson',\n",
    "    street = street,\n",
    "    city = city,\n",
    "    postalcode = postalcode\n",
    ")\n",
    "\n",
    "r = requests.get(geocode_url, params=params)\n",
    "features = r.json()['features']"
   ]
  }
 ],
 "metadata": {
  "kernelspec": {
   "display_name": "Python 3",
   "language": "python",
   "name": "python3"
  },
  "language_info": {
   "codemirror_mode": {
    "name": "ipython",
    "version": 3
   },
   "file_extension": ".py",
   "mimetype": "text/x-python",
   "name": "python",
   "nbconvert_exporter": "python",
   "pygments_lexer": "ipython3",
   "version": "3.10.12"
  }
 },
 "nbformat": 4,
 "nbformat_minor": 2
}
